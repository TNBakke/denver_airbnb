{
 "cells": [
  {
   "cell_type": "code",
   "execution_count": 1,
   "metadata": {},
   "outputs": [
    {
     "ename": "TypeError",
     "evalue": "get_total_airbnb_quan() missing 1 required positional argument: 'file_path'",
     "output_type": "error",
     "traceback": [
      "\u001b[0;31m---------------------------------------------------------------------------\u001b[0m",
      "\u001b[0;31mTypeError\u001b[0m                                 Traceback (most recent call last)",
      "\u001b[0;32m<ipython-input-1-a7419019af7d>\u001b[0m in \u001b[0;36m<module>\u001b[0;34m\u001b[0m\n\u001b[1;32m      4\u001b[0m     \u001b[0;32mreturn\u001b[0m \u001b[0mdf\u001b[0m\u001b[0;34m[\u001b[0m\u001b[0;34m'id'\u001b[0m\u001b[0;34m]\u001b[0m\u001b[0;34m.\u001b[0m\u001b[0mcount\u001b[0m\u001b[0;34m(\u001b[0m\u001b[0;34m)\u001b[0m\u001b[0;34m\u001b[0m\u001b[0;34m\u001b[0m\u001b[0m\n\u001b[1;32m      5\u001b[0m \u001b[0;34m\u001b[0m\u001b[0m\n\u001b[0;32m----> 6\u001b[0;31m \u001b[0mget_total_airbnb_quan\u001b[0m\u001b[0;34m(\u001b[0m\u001b[0;34m)\u001b[0m\u001b[0;34m\u001b[0m\u001b[0;34m\u001b[0m\u001b[0m\n\u001b[0m",
      "\u001b[0;31mTypeError\u001b[0m: get_total_airbnb_quan() missing 1 required positional argument: 'file_path'"
     ]
    }
   ],
   "source": [
    "def get_total_airbnb_quan(file_path):\n",
    "    df = pd.read_csv(file_path)\n",
    "\n",
    "    return df['id'].count()\n",
    "\n",
    "get_total_airbnb_quan()"
   ]
  },
  {
   "cell_type": "code",
   "execution_count": 3,
   "metadata": {},
   "outputs": [
    {
     "name": "stdout",
     "output_type": "stream",
     "text": [
      "[2505]\n"
     ]
    }
   ],
   "source": [
    "import pandas as pd\n",
    "\n",
    "lst = []\n",
    "\n",
    "def get_total_airbnb_quan(file_path):\n",
    "    df = pd.read_csv(file_path)\n",
    "    lst.append(df['id'].count())\n",
    "\n",
    "    return df['id'].count()\n",
    "\n",
    "get_total_airbnb_quan('./data/may_2016/2016_may_listings.csv')\n",
    "print(lst)"
   ]
  },
  {
   "cell_type": "code",
   "execution_count": 4,
   "metadata": {},
   "outputs": [
    {
     "data": {
      "text/plain": [
       "{'jan_2020': 2505}"
      ]
     },
     "execution_count": 4,
     "metadata": {},
     "output_type": "execute_result"
    }
   ],
   "source": [
    "total_airbnb_quan_dict = {}\n",
    "\n",
    "def update_dict(date_, airbnb_quan):\n",
    "    '''\n",
    "    Updates total_airbnb_quan_dict with Month and Quantity totals\n",
    "\n",
    "    Parameters:\n",
    "\n",
    "    date_ (str): The month and year the data was collected (i.e. 'jan_2020')\n",
    "    airbnb_quan (int): The total number of Airbnb Rental Units for the Month and Year \n",
    "                       (Note: See 'get_total_airbnb_quan(file_path)' function above)\n",
    "\n",
    "    '''\n",
    "    \n",
    "    total_airbnb_quan_dict[date_] = airbnb_quan\n",
    "\n",
    "    return total_airbnb_quan_dict\n",
    "\n",
    "update_dict('jan_2020', 2505)"
   ]
  },
  {
   "cell_type": "code",
   "execution_count": 7,
   "metadata": {},
   "outputs": [],
   "source": [
    "df = pd.read_csv('./data/jan_2020/jan_2020_listings.csv')"
   ]
  },
  {
   "cell_type": "code",
   "execution_count": 11,
   "metadata": {},
   "outputs": [],
   "source": [
    "df_grouped = df.groupby('room_type').count()"
   ]
  },
  {
   "cell_type": "code",
   "execution_count": 23,
   "metadata": {},
   "outputs": [
    {
     "data": {
      "text/html": [
       "<div>\n",
       "<style scoped>\n",
       "    .dataframe tbody tr th:only-of-type {\n",
       "        vertical-align: middle;\n",
       "    }\n",
       "\n",
       "    .dataframe tbody tr th {\n",
       "        vertical-align: top;\n",
       "    }\n",
       "\n",
       "    .dataframe thead th {\n",
       "        text-align: right;\n",
       "    }\n",
       "</style>\n",
       "<table border=\"1\" class=\"dataframe\">\n",
       "  <thead>\n",
       "    <tr style=\"text-align: right;\">\n",
       "      <th></th>\n",
       "      <th>id</th>\n",
       "    </tr>\n",
       "    <tr>\n",
       "      <th>room_type</th>\n",
       "      <th></th>\n",
       "    </tr>\n",
       "  </thead>\n",
       "  <tbody>\n",
       "    <tr>\n",
       "      <th>Entire home/apt</th>\n",
       "      <td>3653</td>\n",
       "    </tr>\n",
       "    <tr>\n",
       "      <th>Hotel room</th>\n",
       "      <td>36</td>\n",
       "    </tr>\n",
       "    <tr>\n",
       "      <th>Private room</th>\n",
       "      <td>1120</td>\n",
       "    </tr>\n",
       "    <tr>\n",
       "      <th>Shared room</th>\n",
       "      <td>51</td>\n",
       "    </tr>\n",
       "  </tbody>\n",
       "</table>\n",
       "</div>"
      ],
      "text/plain": [
       "                   id\n",
       "room_type            \n",
       "Entire home/apt  3653\n",
       "Hotel room         36\n",
       "Private room     1120\n",
       "Shared room        51"
      ]
     },
     "execution_count": 23,
     "metadata": {},
     "output_type": "execute_result"
    }
   ],
   "source": [
    "df_grouped[['id']]"
   ]
  },
  {
   "cell_type": "code",
   "execution_count": 24,
   "metadata": {},
   "outputs": [],
   "source": [
    "new_df = df_grouped[['id']]"
   ]
  },
  {
   "cell_type": "code",
   "execution_count": 26,
   "metadata": {},
   "outputs": [],
   "source": [
    "new_dict = new_df.to_dict()"
   ]
  },
  {
   "cell_type": "code",
   "execution_count": 27,
   "metadata": {},
   "outputs": [
    {
     "name": "stdout",
     "output_type": "stream",
     "text": [
      "{'id': {'Entire home/apt': 3653, 'Hotel room': 36, 'Private room': 1120, 'Shared room': 51}}\n"
     ]
    }
   ],
   "source": [
    "print(new_dict)"
   ]
  },
  {
   "cell_type": "code",
   "execution_count": 28,
   "metadata": {},
   "outputs": [
    {
     "data": {
      "text/plain": [
       "36"
      ]
     },
     "execution_count": 28,
     "metadata": {},
     "output_type": "execute_result"
    }
   ],
   "source": [
    "new_dict['id']['Hotel room']"
   ]
  },
  {
   "cell_type": "code",
   "execution_count": 30,
   "metadata": {},
   "outputs": [
    {
     "data": {
      "text/plain": [
       "dict_keys(['id'])"
      ]
     },
     "execution_count": 30,
     "metadata": {},
     "output_type": "execute_result"
    }
   ],
   "source": [
    "new_dict.keys()"
   ]
  },
  {
   "cell_type": "code",
   "execution_count": 31,
   "metadata": {},
   "outputs": [],
   "source": [
    "new_dict['jan_2020'] = new_dict.pop('id')"
   ]
  },
  {
   "cell_type": "code",
   "execution_count": 32,
   "metadata": {},
   "outputs": [
    {
     "name": "stdout",
     "output_type": "stream",
     "text": [
      "{'jan_2020': {'Entire home/apt': 3653, 'Hotel room': 36, 'Private room': 1120, 'Shared room': 51}}\n"
     ]
    }
   ],
   "source": [
    "print(new_dict)"
   ]
  },
  {
   "cell_type": "code",
   "execution_count": 33,
   "metadata": {},
   "outputs": [
    {
     "data": {
      "text/plain": [
       "1120"
      ]
     },
     "execution_count": 33,
     "metadata": {},
     "output_type": "execute_result"
    }
   ],
   "source": [
    "new_dict['jan_2020'][\"Private room\"]"
   ]
  },
  {
   "cell_type": "code",
   "execution_count": null,
   "metadata": {},
   "outputs": [],
   "source": []
  },
  {
   "cell_type": "code",
   "execution_count": 21,
   "metadata": {},
   "outputs": [],
   "source": [
    "new_d = dict(df_grouped[['id']])"
   ]
  },
  {
   "cell_type": "code",
   "execution_count": 22,
   "metadata": {},
   "outputs": [
    {
     "name": "stdout",
     "output_type": "stream",
     "text": [
      "{'id': room_type\n",
      "Entire home/apt    3653\n",
      "Hotel room           36\n",
      "Private room       1120\n",
      "Shared room          51\n",
      "Name: id, dtype: int64}\n"
     ]
    }
   ],
   "source": [
    "print(new_d)"
   ]
  },
  {
   "cell_type": "code",
   "execution_count": 34,
   "metadata": {},
   "outputs": [
    {
     "data": {
      "text/plain": [
       "{'jan_2020': {'Entire home/apt': 3653,\n",
       "  'Hotel room': 36,\n",
       "  'Private room': 1120,\n",
       "  'Shared room': 51}}"
      ]
     },
     "execution_count": 34,
     "metadata": {},
     "output_type": "execute_result"
    }
   ],
   "source": [
    "def rental_breakdown(date_, file_path):\n",
    "    '''\n",
    "    Collects the rental type breakdown for the desired month of data\n",
    "\n",
    "    Parameters:\n",
    "    file_path (str): Direct file path to desired dataset \n",
    "    date_ (str): The month and year the data was collected (i.e. 'jan_2020')\n",
    "\n",
    "    Returns:\n",
    "    airbnb_rental_type_dict (dict): Update copy of the dictionary including breakdown of rental data by type \n",
    "\n",
    "    '''\n",
    "\n",
    "    df = pd.read_csv(file_path)\n",
    "    df_grouped = df.groupby('room_type').count()\n",
    "    df_grouped_new = df_grouped[['id']]\n",
    "    \n",
    "    # Changing the DataFrame Object to a Dictionary for Data Storage\n",
    "    rental_type_dict = df_grouped_new.to_dict()\n",
    "\n",
    "    # Updating the Key Value to Inputted Date String from Function Parameter \n",
    "    rental_type_dict[date_] = rental_type_dict.pop('id')\n",
    "\n",
    "    return rental_type_dict\n",
    "\n",
    "rental_breakdown('jan_2020','./data/jan_2020/jan_2020_listings.csv')"
   ]
  },
  {
   "cell_type": "code",
   "execution_count": 38,
   "metadata": {},
   "outputs": [
    {
     "data": {
      "text/plain": [
       "{'five_points': 455,\n",
       " 'highland': 273,\n",
       " 'union_station': 225,\n",
       " 'capitol_hill': 200,\n",
       " 'gateway_-_green_valley_ranch': 160,\n",
       " 'sunnyside': 158,\n",
       " 'west_colfax': 152,\n",
       " 'speer': 152,\n",
       " 'west_highland': 145,\n",
       " 'whittier': 126}"
      ]
     },
     "execution_count": 38,
     "metadata": {},
     "output_type": "execute_result"
    }
   ],
   "source": [
    "def neighborhood_breakdown(date_, file_path):\n",
    "    '''\n",
    "    Collects the results of the Top 10 Airbnb Rental Neighborhoods for the desired Month\n",
    "\n",
    "    Parameters:\n",
    "    file_path (str): Direct file path to desired dataset \n",
    "    date_ (str): The month and year the data was collected (i.e. 'jan_2020')\n",
    "\n",
    "    Returns:\n",
    "    neighborhood_d (dict): New dictionary including breakdown of Top 10 neighborhoods\n",
    "\n",
    "    '''\n",
    "\n",
    "    df = pd.read_csv(file_path)\n",
    "    df_grouped = df.groupby('neighbourhood').count()\n",
    "    neighborhood_d = dict(df_grouped['id'].sort_values(ascending = False).head(10))\n",
    "\n",
    "    neighborhood_d = {k.lower(): v for k,v in neighborhood_d.items()}\n",
    "    neighborhood_d = {k.replace(\" \",\"_\"): v for k,v in neighborhood_d.items()}\n",
    "\n",
    "    return neighborhood_d\n",
    "    \n",
    "neighborhood_breakdown('jan_2020','./data/jan_2020/jan_2020_listings.csv')"
   ]
  },
  {
   "cell_type": "code",
   "execution_count": 39,
   "metadata": {},
   "outputs": [],
   "source": [
    "neighborhood_d = {'five_points': 455,\n",
    " 'highland': 273,\n",
    " 'union_station': 225,\n",
    " 'capitol_hill': 200,\n",
    " 'gateway_-_green_valley_ranch': 160,\n",
    " 'sunnyside': 158,\n",
    " 'west_colfax': 152,\n",
    " 'speer': 152,\n",
    " 'west_highland': 145,\n",
    " 'whittier': 126}"
   ]
  },
  {
   "cell_type": "code",
   "execution_count": 40,
   "metadata": {},
   "outputs": [],
   "source": [
    "new_d = {'jan_2020': neighborhood_d}"
   ]
  },
  {
   "cell_type": "code",
   "execution_count": 41,
   "metadata": {},
   "outputs": [
    {
     "name": "stdout",
     "output_type": "stream",
     "text": [
      "{'jan_2020': {'five_points': 455, 'highland': 273, 'union_station': 225, 'capitol_hill': 200, 'gateway_-_green_valley_ranch': 160, 'sunnyside': 158, 'west_colfax': 152, 'speer': 152, 'west_highland': 145, 'whittier': 126}}\n"
     ]
    }
   ],
   "source": [
    "print(new_d)"
   ]
  },
  {
   "cell_type": "code",
   "execution_count": 42,
   "metadata": {},
   "outputs": [
    {
     "data": {
      "text/plain": [
       "{'jan_2020': {'five_points': 455,\n",
       "  'highland': 273,\n",
       "  'union_station': 225,\n",
       "  'capitol_hill': 200,\n",
       "  'gateway_-_green_valley_ranch': 160,\n",
       "  'sunnyside': 158,\n",
       "  'west_colfax': 152,\n",
       "  'speer': 152,\n",
       "  'west_highland': 145,\n",
       "  'whittier': 126}}"
      ]
     },
     "execution_count": 42,
     "metadata": {},
     "output_type": "execute_result"
    }
   ],
   "source": [
    "def neighborhood_breakdown(date_, file_path):\n",
    "    '''\n",
    "    Collects the results of the Top 10 Airbnb Rental Neighborhoods for the desired Month\n",
    "\n",
    "    Parameters:\n",
    "    file_path (str): Direct file path to desired dataset \n",
    "    date_ (str): The month and year the data was collected (i.e. 'jan_2020')\n",
    "\n",
    "    Returns:\n",
    "    neighborhood_d (dict): New dictionary including breakdown of Top 10 neighborhoods\n",
    "\n",
    "    '''\n",
    "\n",
    "    df = pd.read_csv(file_path)\n",
    "    df_grouped = df.groupby('neighbourhood').count()\n",
    "    \n",
    "    # Grabbing the results of the Top 10 and putting them in a dictionary \n",
    "    new_d = dict(df_grouped['id'].sort_values(ascending = False).head(10))\n",
    "\n",
    "    # Iterating through the dictionary keys to put them in lower case and add \"_\" in place of \" \"\n",
    "    new_d = {k.lower(): v for k,v in new_d.items()}\n",
    "    new_d = {k.replace(\" \",\"_\"): v for k,v in new_d.items()}\n",
    "\n",
    "    # Creating a nested dictionary to add Month to Data for Clarity (i.e. 'jan_2020')\n",
    "    neighborhood_d = {date_ : new_d}\n",
    "\n",
    "    return neighborhood_d\n",
    "\n",
    "neighborhood_breakdown('jan_2020','./data/jan_2020/jan_2020_listings.csv')"
   ]
  },
  {
   "cell_type": "code",
   "execution_count": 1,
   "metadata": {},
   "outputs": [],
   "source": [
    "    def price_breakdown_by_type(file_path):\n",
    "        '''\n",
    "        Collects the prices for all Airbnb listings in a month and appends them to a list for plotting\n",
    "\n",
    "        Parameters:\n",
    "        file_path (str): Direct file path to desired dataset \n",
    "\n",
    "        Returns: \n",
    "        entire_unit_price_list (list): Returns a list of integers with all prices for entire unit rentals\n",
    "        private_room_price_list (list): Returns a list of integers with all prices for private room rentals\n",
    "        hotel_price_list (list): Returns a list of integers with all prices for hotel rentals\n",
    "        shared_room_price_list (list): Returns a list of integers with all prices for shared room rentals\n",
    "        '''\n",
    "\n",
    "        df = pd.read_csv(file_path)\n",
    "        \n",
    "        hotel_prices = df[df['room_type']=='Hotel room']\n",
    "        new_hotel_price = hotel_prices.loc[0:, 'price']\n",
    "        hotel_price_list = list(new_hotel_price)\n",
    "\n",
    "        entire_unit_prices = df[df['room_type']=='Entire home/apt']\n",
    "        new_entire_unit_price = entire_unit_prices.loc[0:, 'price']\n",
    "        entire_unit_price_list = list(new_entire_unit_price)\n",
    "\n",
    "        shared_prices = df[df['room_type']=='Shared room']\n",
    "        new_shared_price = shared_prices.loc[0:, 'price']\n",
    "        shared_room_price_list = list(new_shared_price)\n",
    "\n",
    "        private_prices = df[df['room_type']=='Private room']\n",
    "        new_private_price = private_prices.loc[0:, 'price']\n",
    "        private_room_price_list = list(new_private_price)\n",
    "\n",
    "        d = {'entire_unit':entire_unit_price_list, 'private_room':private_room_price_list, \n",
    "             'hotel':hotel_price_list, 'shared_room':shared_room_price_list}\n",
    "        \n",
    "        \n",
    "        return d\n",
    "    \n",
    "# price_breakdown_by_type('./data/jan_2020/jan_2020_listings.csv')"
   ]
  },
  {
   "cell_type": "code",
   "execution_count": null,
   "metadata": {},
   "outputs": [],
   "source": []
  }
 ],
 "metadata": {
  "kernelspec": {
   "display_name": "Python 3",
   "language": "python",
   "name": "python3"
  },
  "language_info": {
   "codemirror_mode": {
    "name": "ipython",
    "version": 3
   },
   "file_extension": ".py",
   "mimetype": "text/x-python",
   "name": "python",
   "nbconvert_exporter": "python",
   "pygments_lexer": "ipython3",
   "version": "3.7.9"
  }
 },
 "nbformat": 4,
 "nbformat_minor": 4
}
